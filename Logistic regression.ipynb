{
 "cells": [
  {
   "cell_type": "code",
   "execution_count": 1,
   "metadata": {},
   "outputs": [],
   "source": [
    "import numpy as np\n",
    "import matplotlib.pyplot as plt\n",
    "import pandas as pd\n",
    "from sklearn.datasets import load_iris"
   ]
  },
  {
   "cell_type": "code",
   "execution_count": 2,
   "metadata": {},
   "outputs": [],
   "source": [
    "def sigmoid(x):\n",
    "    return 1 / (1 + np.exp(-x))"
   ]
  },
  {
   "cell_type": "code",
   "execution_count": 3,
   "metadata": {},
   "outputs": [],
   "source": [
    "def batch_gradient_descent(theta, x, y, alpha=0.01, n_iter=200, print_cost=1000, plot=False):\n",
    "    \"\"\"\n",
    "    Implements batch gradient descent using vectors and numpy.\n",
    "    \n",
    "    Arguments:\n",
    "        theta     : (n + 1)-dimensional vector\n",
    "        x         : (m, n + 1)-dimension matrix\n",
    "        y         : (m, 1)-dimension vector\n",
    "        n_iter    : # iterations to run\n",
    "        alpha     : learning rate\n",
    "        print_cost: # iterations to print cost\n",
    "        \n",
    "    Returns:\n",
    "        theta, n_iter iterations\n",
    "    \"\"\"\n",
    "    m = y.shape[0]\n",
    "    n = theta.shape[0] - 1\n",
    "    \n",
    "    plot_data = []\n",
    "    \n",
    "    # Feature scaling\n",
    "    x_norm = np.sum(x, axis=0)\n",
    "    x = x / x_norm\n",
    "    \n",
    "    assert(x.shape == (m, n + 1)), 'invalid shape for x' + str(x.shape)\n",
    "    assert(y.shape == (m , 1)), 'invalid shape for y' + str(y.shape)\n",
    "        \n",
    "    for z in range(n_iter):  \n",
    "        h = sigmoid(np.dot(x, theta))\n",
    "        theta = theta - alpha / m * np.sum((h - y) * x, axis=0, keepdims=True).T\n",
    "        cost = -1 / m * np.sum(np.dot(y.T, np.log(h)) + np.dot((1 - y).T, np.log(1 - h)))\n",
    "        \n",
    "        if z % print_cost == 0:\n",
    "            plot_data.append([z, cost])\n",
    "            print(cost)\n",
    "    \n",
    "    if plot:\n",
    "        # Plot the cost function\n",
    "        plot_x = [item[0] for item in plot_data]\n",
    "        plot_y = [item[1] for item in plot_data]\n",
    "        plt.xlabel('Iteration')\n",
    "        plt.ylabel('Loss value')\n",
    "        plt.plot(plot_x, plot_y, 'r--')\n",
    "            \n",
    "    return theta, cost"
   ]
  },
  {
   "cell_type": "code",
   "execution_count": 52,
   "metadata": {},
   "outputs": [],
   "source": [
    "x, y = load_iris(return_X_y=True)"
   ]
  },
  {
   "cell_type": "code",
   "execution_count": 53,
   "metadata": {},
   "outputs": [
    {
     "data": {
      "text/plain": [
       "array([0, 1, 2])"
      ]
     },
     "execution_count": 53,
     "metadata": {},
     "output_type": "execute_result"
    }
   ],
   "source": [
    "np.unique(y)"
   ]
  },
  {
   "cell_type": "code",
   "execution_count": 54,
   "metadata": {},
   "outputs": [],
   "source": [
    "indices = np.where(y < 2)\n",
    "x = x[indices]\n",
    "y = y[indices]"
   ]
  },
  {
   "cell_type": "code",
   "execution_count": 55,
   "metadata": {},
   "outputs": [],
   "source": [
    "y = y.reshape((y.shape[0], 1))"
   ]
  },
  {
   "cell_type": "code",
   "execution_count": 56,
   "metadata": {},
   "outputs": [],
   "source": [
    "x = np.concatenate((np.ones((x.shape[0],1), dtype=np.float64), x), axis=1)"
   ]
  },
  {
   "cell_type": "code",
   "execution_count": 13,
   "metadata": {},
   "outputs": [],
   "source": [
    "theta = np.random.randn(x.shape[1], 1)"
   ]
  },
  {
   "cell_type": "code",
   "execution_count": 19,
   "metadata": {},
   "outputs": [
    {
     "name": "stdout",
     "output_type": "stream",
     "text": [
      "0.6872903894213849\n",
      "0.687254414753275\n",
      "0.6872184494293159\n"
     ]
    },
    {
     "data": {
      "text/plain": [
       "array([[-0.41943555],\n",
       "       [-1.55104313],\n",
       "       [-0.27857455],\n",
       "       [ 1.68398765],\n",
       "       [ 0.68687871]])"
      ]
     },
     "execution_count": 19,
     "metadata": {},
     "output_type": "execute_result"
    },
    {
     "data": {
      "image/png": "[encoded data removed]",
      "text/plain": [
       "<Figure size 432x288 with 1 Axes>"
      ]
     },
     "metadata": {
      "needs_background": "light"
     },
     "output_type": "display_data"
    }
   ],
   "source": [
    "batch_gradient_descent(theta, x, y, n_iter=500, print_cost=200, plot=True)"
   ]
  },
  {
   "cell_type": "code",
   "execution_count": 4,
   "metadata": {},
   "outputs": [],
   "source": [
    "def run_experiment(x, y, alpha=0.1, n_iter=500, print_cost=1000000):\n",
    "    \"\"\"\n",
    "    Runs one experiment (trial), comparing the number of iterations required to converge\n",
    "    using 1/LC vs. custom alpha value.\n",
    "    \n",
    "    Args:\n",
    "    -----\n",
    "    x: (m, n + 1)-dimension matrix\n",
    "    y: (m, 1)-dimension vector\n",
    "    \"\"\"\n",
    "    m = x.shape[0]\n",
    "    n = x.shape[1] - 1\n",
    "    theta = np.random.randn(n + 1, 1)\n",
    "    \n",
    "    x_norm = np.sum(x, axis=0)\n",
    "    x = x / x_norm\n",
    "    \n",
    "    theta_final, cost = batch_gradient_descent(theta, x, y, alpha=alpha, n_iter=n_iter, print_cost=print_cost)\n",
    "    print('Traditional cost =', cost)\n",
    "    \n",
    "    predictions = sigmoid(np.dot(x, theta_final))\n",
    "    predictions = (predictions >= 0.5)\n",
    "    accuracy = np.sum(predictions == y) / len(y)\n",
    "    print('Traditional accuracy =', accuracy)\n",
    "\n",
    "    L = 1 / (2 * m) * np.linalg.norm(x)\n",
    "    a = np.abs(1 / L)\n",
    "    print('Custom learning rate:', a)\n",
    "    theta_final, cost = batch_gradient_descent(theta, x, y, alpha=a, n_iter=n_iter, print_cost=print_cost)\n",
    "    print('Custom cost =', cost)\n",
    "    \n",
    "    predictions = sigmoid(np.dot(x, theta_final))\n",
    "    predictions = (predictions >= 0.5)\n",
    "    accuracy = np.sum(predictions == y) / len(y)\n",
    "    print('Custom accuracy =', accuracy)"
   ]
  },
  {
   "cell_type": "code",
   "execution_count": 57,
   "metadata": {},
   "outputs": [
    {
     "name": "stdout",
     "output_type": "stream",
     "text": [
      "0.6945055270474316\n",
      "0.6941325924969448\n",
      "0.6937606493101364\n",
      "0.6933896926804904\n",
      "0.6930197178248679\n",
      "Traditional cost = 0.692652562550147\n",
      "Traditional accuracy = 0.5\n",
      "Custom learning rate: 830.2253199119325\n",
      "0.6945055270474316\n",
      "0.14937339028650728\n",
      "0.0811125188179951\n",
      "0.05590837125996618\n",
      "0.04284007871328506\n",
      "Custom cost = 0.034867963817304615\n",
      "Custom accuracy = 1.0\n"
     ]
    }
   ],
   "source": [
    "run_experiment(x, y, n_iter=1000, print_cost=200)"
   ]
  },
  {
   "cell_type": "markdown",
   "metadata": {},
   "source": [
    "## covertype data"
   ]
  },
  {
   "cell_type": "code",
   "execution_count": 5,
   "metadata": {},
   "outputs": [],
   "source": [
    "from sklearn.datasets import fetch_covtype"
   ]
  },
  {
   "cell_type": "code",
   "execution_count": 40,
   "metadata": {},
   "outputs": [],
   "source": [
    "x, y = fetch_covtype(return_X_y=True)"
   ]
  },
  {
   "cell_type": "code",
   "execution_count": 41,
   "metadata": {},
   "outputs": [
    {
     "data": {
      "text/plain": [
       "array([1, 2, 3, 4, 5, 6, 7], dtype=int32)"
      ]
     },
     "execution_count": 41,
     "metadata": {},
     "output_type": "execute_result"
    }
   ],
   "source": [
    "np.unique(y)"
   ]
  },
  {
   "cell_type": "code",
   "execution_count": 42,
   "metadata": {},
   "outputs": [],
   "source": [
    "indices = np.where(y < 3)\n",
    "x = x[indices]\n",
    "y = y[indices]"
   ]
  },
  {
   "cell_type": "code",
   "execution_count": 43,
   "metadata": {},
   "outputs": [
    {
     "data": {
      "text/plain": [
       "(495141,)"
      ]
     },
     "execution_count": 43,
     "metadata": {},
     "output_type": "execute_result"
    }
   ],
   "source": [
    "y.shape"
   ]
  },
  {
   "cell_type": "code",
   "execution_count": 44,
   "metadata": {},
   "outputs": [],
   "source": [
    "y = y.reshape((y.shape[0], 1))"
   ]
  },
  {
   "cell_type": "code",
   "execution_count": 45,
   "metadata": {},
   "outputs": [],
   "source": [
    "indices = np.where(y == 1)\n",
    "y[indices] = 0"
   ]
  },
  {
   "cell_type": "code",
   "execution_count": 46,
   "metadata": {},
   "outputs": [],
   "source": [
    "indices = np.where(y == 2)\n",
    "y[indices] = 1"
   ]
  },
  {
   "cell_type": "code",
   "execution_count": 47,
   "metadata": {},
   "outputs": [
    {
     "data": {
      "text/plain": [
       "array([0, 1], dtype=int32)"
      ]
     },
     "execution_count": 47,
     "metadata": {},
     "output_type": "execute_result"
    }
   ],
   "source": [
    "np.unique(y)"
   ]
  },
  {
   "cell_type": "code",
   "execution_count": 48,
   "metadata": {},
   "outputs": [],
   "source": [
    "x = np.concatenate((np.ones((x.shape[0],1), dtype=np.float64), x), axis=1)"
   ]
  },
  {
   "cell_type": "code",
   "execution_count": 49,
   "metadata": {},
   "outputs": [
    {
     "data": {
      "text/plain": [
       "(495141, 55)"
      ]
     },
     "execution_count": 49,
     "metadata": {},
     "output_type": "execute_result"
    }
   ],
   "source": [
    "x.shape"
   ]
  },
  {
   "cell_type": "code",
   "execution_count": 50,
   "metadata": {},
   "outputs": [],
   "source": [
    "x = x[:, :10]"
   ]
  },
  {
   "cell_type": "code",
   "execution_count": 51,
   "metadata": {},
   "outputs": [
    {
     "name": "stdout",
     "output_type": "stream",
     "text": [
      "0.693147487561644\n",
      "0.6931474875594844\n",
      "0.6931474875573231\n",
      "0.6931474875551613\n",
      "0.6931474875530012\n",
      "0.6931474875508398\n",
      "0.6931474875486774\n",
      "0.6931474875465158\n",
      "0.693147487544356\n",
      "0.6931474875421934\n",
      "Traditional cost = 0.6931474875400547\n",
      "Traditional accuracy = 0.43055412498662\n",
      "Custom learning rate: 189355845.12800044\n",
      "0.693147487561644\n",
      "0.6897770952214541\n",
      "0.687521636382199\n",
      "0.6860054210742558\n",
      "0.6849795949246131\n",
      "0.6842794382266947\n",
      "0.6837958721482589\n",
      "0.6834565873357585\n",
      "0.6832135855728259\n",
      "0.6830349613586965\n",
      "Custom cost = 0.6829006694702572\n",
      "Custom accuracy = 0.5721622729687099\n"
     ]
    }
   ],
   "source": [
    "run_experiment(x, y, n_iter=1000, print_cost=100)"
   ]
  },
  {
   "cell_type": "markdown",
   "metadata": {},
   "source": [
    "## breast cancer data"
   ]
  },
  {
   "cell_type": "code",
   "execution_count": 29,
   "metadata": {},
   "outputs": [],
   "source": [
    "from sklearn.datasets import load_breast_cancer"
   ]
  },
  {
   "cell_type": "code",
   "execution_count": 37,
   "metadata": {},
   "outputs": [],
   "source": [
    "x, y = load_breast_cancer(return_X_y=True)"
   ]
  },
  {
   "cell_type": "code",
   "execution_count": 38,
   "metadata": {},
   "outputs": [],
   "source": [
    "y = y.reshape((y.shape[0], 1))\n",
    "x = np.concatenate((np.ones((x.shape[0],1), dtype=np.float64), x), axis=1)"
   ]
  },
  {
   "cell_type": "code",
   "execution_count": 8,
   "metadata": {},
   "outputs": [
    {
     "data": {
      "text/plain": [
       "array([0, 1])"
      ]
     },
     "execution_count": 8,
     "metadata": {},
     "output_type": "execute_result"
    }
   ],
   "source": [
    "np.unique(y)"
   ]
  },
  {
   "cell_type": "code",
   "execution_count": 39,
   "metadata": {},
   "outputs": [
    {
     "name": "stdout",
     "output_type": "stream",
     "text": [
      "0.6927372076036958\n",
      "Traditional cost = 0.692728246453714\n",
      "Traditional accuracy = 0.43233743409490333\n",
      "Custom learning rate: 4280.227670674592\n",
      "0.6927372076036958\n",
      "Custom cost = 0.46770330051948655\n",
      "Custom accuracy = 0.9050966608084359\n"
     ]
    }
   ],
   "source": [
    "run_experiment(x, y, n_iter=100)"
   ]
  },
  {
   "cell_type": "markdown",
   "metadata": {},
   "source": [
    "# Loss threshold experiments"
   ]
  },
  {
   "cell_type": "code",
   "execution_count": 26,
   "metadata": {},
   "outputs": [],
   "source": [
    "def new_batch_gradient_descent(theta, x, y, alpha=0.01, thr=1):\n",
    "    \"\"\"\n",
    "    Implements batch gradient descent using vectors and numpy.\n",
    "    \n",
    "    Arguments:\n",
    "        theta     : (n + 1)-dimensional vector\n",
    "        x         : (m, n + 1)-dimension matrix\n",
    "        y         : (m, 1)-dimension vector\n",
    "        alpha     : learning rate\n",
    "        thr       : loss threshold\n",
    "        \n",
    "    Returns:\n",
    "        theta, n_iter iterations\n",
    "    \"\"\"\n",
    "    m = y.shape[0]\n",
    "    n = theta.shape[0] - 1\n",
    "    \n",
    "    plot_data = []\n",
    "    \n",
    "    # Feature scaling\n",
    "    x_norm = np.sum(x, axis=0)\n",
    "    x = x / x_norm\n",
    "    \n",
    "    assert(x.shape == (m, n + 1)), 'invalid shape for x' + str(x.shape)\n",
    "    assert(y.shape == (m , 1)), 'invalid shape for y' + str(y.shape)\n",
    "    \n",
    "    it = 0\n",
    "    cost = thr\n",
    "        \n",
    "    while cost >= thr:\n",
    "        it += 1\n",
    "        h = sigmoid(np.dot(x, theta))\n",
    "        theta = theta - alpha / m * np.sum((h - y) * x, axis=0, keepdims=True).T\n",
    "        cost = -1 / m * np.sum(np.dot(y.T, np.log(h)) + np.dot((1 - y).T, np.log(1 - h)))\n",
    "        \n",
    "        if it % 1000 == 0:\n",
    "            print('iteration', it, 'cost', cost)\n",
    "            \n",
    "    return theta, it"
   ]
  },
  {
   "cell_type": "code",
   "execution_count": 21,
   "metadata": {},
   "outputs": [],
   "source": [
    "def run_new_experiment(x, y, alpha=0.1, thr=1):\n",
    "    \"\"\"\n",
    "    Runs one experiment (trial), comparing the number of iterations required to converge\n",
    "    using 1/LC vs. custom alpha value.\n",
    "    \n",
    "    Args:\n",
    "    -----\n",
    "    x: (m, n + 1)-dimension matrix\n",
    "    y: (m, 1)-dimension vector\n",
    "    \"\"\"\n",
    "    m = x.shape[0]\n",
    "    n = x.shape[1] - 1\n",
    "    theta = np.random.randn(n + 1, 1)\n",
    "    \n",
    "    x_norm = np.sum(x, axis=0)\n",
    "    x = x / x_norm\n",
    "    \n",
    "    theta_final, it = new_batch_gradient_descent(theta, x, y, alpha=alpha, thr=thr)\n",
    "    print('Traditional #it =', it)\n",
    "\n",
    "    L = 1 / (2 * m) * np.linalg.norm(x)\n",
    "    a = np.abs(1 / L)\n",
    "    print('Custom learning rate:', a)\n",
    "    theta_final, it = new_batch_gradient_descent(theta, x, y, alpha=a, thr=thr)\n",
    "    print('Custom #it =', it)"
   ]
  },
  {
   "cell_type": "markdown",
   "metadata": {},
   "source": [
    "## covertype"
   ]
  },
  {
   "cell_type": "code",
   "execution_count": 22,
   "metadata": {},
   "outputs": [],
   "source": [
    "x, y = fetch_covtype(return_X_y=True)\n",
    "\n",
    "indices = np.where(y < 3)\n",
    "x = x[indices]\n",
    "y = y[indices]\n",
    "\n",
    "x = np.concatenate((np.ones((x.shape[0],1), dtype=np.float64), x), axis=1)\n",
    "y = y.reshape((y.shape[0], 1))\n",
    "\n",
    "indices = np.where(y == 1)\n",
    "y[indices] = 0\n",
    "\n",
    "indices = np.where(y == 2)\n",
    "y[indices] = 1\n",
    "\n",
    "x = x[:, :10]"
   ]
  },
  {
   "cell_type": "code",
   "execution_count": 28,
   "metadata": {},
   "outputs": [
    {
     "ename": "KeyboardInterrupt",
     "evalue": "",
     "output_type": "error",
     "traceback": [
      "\u001b[0;31m---------------------------------------------------------------------------\u001b[0m",
      "\u001b[0;31mKeyboardInterrupt\u001b[0m                         Traceback (most recent call last)",
      "\u001b[0;32m<ipython-input-28-fffb796cdd60>\u001b[0m in \u001b[0;36m<module>\u001b[0;34m\u001b[0m\n\u001b[0;32m----> 1\u001b[0;31m \u001b[0mrun_new_experiment\u001b[0m\u001b[0;34m(\u001b[0m\u001b[0mx\u001b[0m\u001b[0;34m,\u001b[0m \u001b[0my\u001b[0m\u001b[0;34m,\u001b[0m \u001b[0mthr\u001b[0m\u001b[0;34m=\u001b[0m\u001b[0;36m0.693147\u001b[0m\u001b[0;34m)\u001b[0m\u001b[0;34m\u001b[0m\u001b[0m\n\u001b[0m",
      "\u001b[0;32m<ipython-input-21-997feb099076>\u001b[0m in \u001b[0;36mrun_new_experiment\u001b[0;34m(x, y, alpha, thr)\u001b[0m\n\u001b[1;32m     16\u001b[0m     \u001b[0mx\u001b[0m \u001b[0;34m=\u001b[0m \u001b[0mx\u001b[0m \u001b[0;34m/\u001b[0m \u001b[0mx_norm\u001b[0m\u001b[0;34m\u001b[0m\u001b[0m\n\u001b[1;32m     17\u001b[0m \u001b[0;34m\u001b[0m\u001b[0m\n\u001b[0;32m---> 18\u001b[0;31m     \u001b[0mtheta_final\u001b[0m\u001b[0;34m,\u001b[0m \u001b[0mit\u001b[0m \u001b[0;34m=\u001b[0m \u001b[0mnew_batch_gradient_descent\u001b[0m\u001b[0;34m(\u001b[0m\u001b[0mtheta\u001b[0m\u001b[0;34m,\u001b[0m \u001b[0mx\u001b[0m\u001b[0;34m,\u001b[0m \u001b[0my\u001b[0m\u001b[0;34m,\u001b[0m \u001b[0malpha\u001b[0m\u001b[0;34m=\u001b[0m\u001b[0malpha\u001b[0m\u001b[0;34m,\u001b[0m \u001b[0mthr\u001b[0m\u001b[0;34m=\u001b[0m\u001b[0mthr\u001b[0m\u001b[0;34m)\u001b[0m\u001b[0;34m\u001b[0m\u001b[0m\n\u001b[0m\u001b[1;32m     19\u001b[0m     \u001b[0mprint\u001b[0m\u001b[0;34m(\u001b[0m\u001b[0;34m'Traditional #it ='\u001b[0m\u001b[0;34m,\u001b[0m \u001b[0mit\u001b[0m\u001b[0;34m)\u001b[0m\u001b[0;34m\u001b[0m\u001b[0m\n\u001b[1;32m     20\u001b[0m \u001b[0;34m\u001b[0m\u001b[0m\n",
      "\u001b[0;32m<ipython-input-26-4f90070b77af>\u001b[0m in \u001b[0;36mnew_batch_gradient_descent\u001b[0;34m(theta, x, y, alpha, thr)\u001b[0m\n\u001b[1;32m     30\u001b[0m     \u001b[0;32mwhile\u001b[0m \u001b[0mcost\u001b[0m \u001b[0;34m>=\u001b[0m \u001b[0mthr\u001b[0m\u001b[0;34m:\u001b[0m\u001b[0;34m\u001b[0m\u001b[0m\n\u001b[1;32m     31\u001b[0m         \u001b[0mit\u001b[0m \u001b[0;34m+=\u001b[0m \u001b[0;36m1\u001b[0m\u001b[0;34m\u001b[0m\u001b[0m\n\u001b[0;32m---> 32\u001b[0;31m         \u001b[0mh\u001b[0m \u001b[0;34m=\u001b[0m \u001b[0msigmoid\u001b[0m\u001b[0;34m(\u001b[0m\u001b[0mnp\u001b[0m\u001b[0;34m.\u001b[0m\u001b[0mdot\u001b[0m\u001b[0;34m(\u001b[0m\u001b[0mx\u001b[0m\u001b[0;34m,\u001b[0m \u001b[0mtheta\u001b[0m\u001b[0;34m)\u001b[0m\u001b[0;34m)\u001b[0m\u001b[0;34m\u001b[0m\u001b[0m\n\u001b[0m\u001b[1;32m     33\u001b[0m         \u001b[0mtheta\u001b[0m \u001b[0;34m=\u001b[0m \u001b[0mtheta\u001b[0m \u001b[0;34m-\u001b[0m \u001b[0malpha\u001b[0m \u001b[0;34m/\u001b[0m \u001b[0mm\u001b[0m \u001b[0;34m*\u001b[0m \u001b[0mnp\u001b[0m\u001b[0;34m.\u001b[0m\u001b[0msum\u001b[0m\u001b[0;34m(\u001b[0m\u001b[0;34m(\u001b[0m\u001b[0mh\u001b[0m \u001b[0;34m-\u001b[0m \u001b[0my\u001b[0m\u001b[0;34m)\u001b[0m \u001b[0;34m*\u001b[0m \u001b[0mx\u001b[0m\u001b[0;34m,\u001b[0m \u001b[0maxis\u001b[0m\u001b[0;34m=\u001b[0m\u001b[0;36m0\u001b[0m\u001b[0;34m,\u001b[0m \u001b[0mkeepdims\u001b[0m\u001b[0;34m=\u001b[0m\u001b[0;32mTrue\u001b[0m\u001b[0;34m)\u001b[0m\u001b[0;34m.\u001b[0m\u001b[0mT\u001b[0m\u001b[0;34m\u001b[0m\u001b[0m\n\u001b[1;32m     34\u001b[0m         \u001b[0mcost\u001b[0m \u001b[0;34m=\u001b[0m \u001b[0;34m-\u001b[0m\u001b[0;36m1\u001b[0m \u001b[0;34m/\u001b[0m \u001b[0mm\u001b[0m \u001b[0;34m*\u001b[0m \u001b[0mnp\u001b[0m\u001b[0;34m.\u001b[0m\u001b[0msum\u001b[0m\u001b[0;34m(\u001b[0m\u001b[0mnp\u001b[0m\u001b[0;34m.\u001b[0m\u001b[0mdot\u001b[0m\u001b[0;34m(\u001b[0m\u001b[0my\u001b[0m\u001b[0;34m.\u001b[0m\u001b[0mT\u001b[0m\u001b[0;34m,\u001b[0m \u001b[0mnp\u001b[0m\u001b[0;34m.\u001b[0m\u001b[0mlog\u001b[0m\u001b[0;34m(\u001b[0m\u001b[0mh\u001b[0m\u001b[0;34m)\u001b[0m\u001b[0;34m)\u001b[0m \u001b[0;34m+\u001b[0m \u001b[0mnp\u001b[0m\u001b[0;34m.\u001b[0m\u001b[0mdot\u001b[0m\u001b[0;34m(\u001b[0m\u001b[0;34m(\u001b[0m\u001b[0;36m1\u001b[0m \u001b[0;34m-\u001b[0m \u001b[0my\u001b[0m\u001b[0;34m)\u001b[0m\u001b[0;34m.\u001b[0m\u001b[0mT\u001b[0m\u001b[0;34m,\u001b[0m \u001b[0mnp\u001b[0m\u001b[0;34m.\u001b[0m\u001b[0mlog\u001b[0m\u001b[0;34m(\u001b[0m\u001b[0;36m1\u001b[0m \u001b[0;34m-\u001b[0m \u001b[0mh\u001b[0m\u001b[0;34m)\u001b[0m\u001b[0;34m)\u001b[0m\u001b[0;34m)\u001b[0m\u001b[0;34m\u001b[0m\u001b[0m\n",
      "\u001b[0;32m<ipython-input-2-b683d5dd8fa4>\u001b[0m in \u001b[0;36msigmoid\u001b[0;34m(x)\u001b[0m\n\u001b[1;32m      1\u001b[0m \u001b[0;32mdef\u001b[0m \u001b[0msigmoid\u001b[0m\u001b[0;34m(\u001b[0m\u001b[0mx\u001b[0m\u001b[0;34m)\u001b[0m\u001b[0;34m:\u001b[0m\u001b[0;34m\u001b[0m\u001b[0m\n\u001b[0;32m----> 2\u001b[0;31m     \u001b[0;32mreturn\u001b[0m \u001b[0;36m1\u001b[0m \u001b[0;34m/\u001b[0m \u001b[0;34m(\u001b[0m\u001b[0;36m1\u001b[0m \u001b[0;34m+\u001b[0m \u001b[0mnp\u001b[0m\u001b[0;34m.\u001b[0m\u001b[0mexp\u001b[0m\u001b[0;34m(\u001b[0m\u001b[0;34m-\u001b[0m\u001b[0mx\u001b[0m\u001b[0;34m)\u001b[0m\u001b[0;34m)\u001b[0m\u001b[0;34m\u001b[0m\u001b[0m\n\u001b[0m",
      "\u001b[0;31mKeyboardInterrupt\u001b[0m: "
     ]
    }
   ],
   "source": [
    "run_new_experiment(x, y, thr=0.693147)"
   ]
  },
  {
   "cell_type": "markdown",
   "metadata": {},
   "source": [
    "## breast cancer"
   ]
  },
  {
   "cell_type": "code",
   "execution_count": 30,
   "metadata": {},
   "outputs": [],
   "source": [
    "x, y = load_breast_cancer(return_X_y=True)\n",
    "y = y.reshape((y.shape[0], 1))\n",
    "x = np.concatenate((np.ones((x.shape[0],1), dtype=np.float64), x), axis=1)"
   ]
  },
  {
   "cell_type": "code",
   "execution_count": 31,
   "metadata": {},
   "outputs": [
    {
     "name": "stdout",
     "output_type": "stream",
     "text": [
      "iteration 1000 cost 0.6932637068967112\n",
      "iteration 2000 cost 0.6931724712203551\n",
      "iteration 3000 cost 0.6930812701789715\n",
      "iteration 4000 cost 0.6929901037244204\n",
      "iteration 5000 cost 0.6928989718087702\n",
      "iteration 6000 cost 0.6928078743842978\n",
      "iteration 7000 cost 0.692716811403487\n",
      "iteration 8000 cost 0.6926257828190271\n",
      "iteration 9000 cost 0.6925347885838127\n",
      "iteration 10000 cost 0.692443828650942\n",
      "iteration 11000 cost 0.6923529029737155\n",
      "iteration 12000 cost 0.6922620115056357\n",
      "iteration 13000 cost 0.6921711542004055\n",
      "iteration 14000 cost 0.6920803310119271\n",
      "iteration 15000 cost 0.6919895418943012\n",
      "iteration 16000 cost 0.6918987868018259\n",
      "iteration 17000 cost 0.6918080656889957\n",
      "iteration 18000 cost 0.6917173785105\n",
      "iteration 19000 cost 0.6916267252212227\n",
      "iteration 20000 cost 0.6915361057762414\n",
      "iteration 21000 cost 0.6914455201308249\n",
      "iteration 22000 cost 0.6913549682404344\n",
      "iteration 23000 cost 0.6912644500607202\n",
      "iteration 24000 cost 0.6911739655475226\n",
      "iteration 25000 cost 0.6910835146568695\n",
      "iteration 26000 cost 0.6909930973449764\n",
      "iteration 27000 cost 0.6909027135682448\n",
      "iteration 28000 cost 0.6908123632832619\n",
      "iteration 29000 cost 0.6907220464467984\n",
      "iteration 30000 cost 0.6906317630158086\n",
      "iteration 31000 cost 0.6905415129474296\n",
      "iteration 32000 cost 0.6904512961989795\n",
      "iteration 33000 cost 0.6903611127279564\n",
      "iteration 34000 cost 0.6902709624920386\n",
      "iteration 35000 cost 0.6901808454490823\n",
      "iteration 36000 cost 0.6900907615571218\n",
      "iteration 37000 cost 0.6900007107743675\n",
      "Traditional #it = 37008\n",
      "Custom learning rate: 4280.227670674592\n",
      "Custom #it = 2\n"
     ]
    }
   ],
   "source": [
    "run_new_experiment(x, y, thr=0.69)"
   ]
  },
  {
   "cell_type": "code",
   "execution_count": null,
   "metadata": {},
   "outputs": [],
   "source": []
  }
 ],
 "metadata": {
  "kernelspec": {
   "display_name": "Python 3",
   "language": "python",
   "name": "python3"
  },
  "language_info": {
   "codemirror_mode": {
    "name": "ipython",
    "version": 3
   },
   "file_extension": ".py",
   "mimetype": "text/x-python",
   "name": "python",
   "nbconvert_exporter": "python",
   "pygments_lexer": "ipython3",
   "version": "3.5.3"
  }
 },
 "nbformat": 4,
 "nbformat_minor": 2
}
